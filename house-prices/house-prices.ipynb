{
 "cells": [
  {
   "cell_type": "code",
   "execution_count": null,
   "metadata": {
    "tags": []
   },
   "outputs": [],
   "source": [
    "!head train.csv"
   ]
  },
  {
   "cell_type": "code",
   "execution_count": null,
   "metadata": {
    "tags": []
   },
   "outputs": [],
   "source": [
    "import numpy as np\n",
    "\n",
    "train = np.genfromtxt('train.csv', delimiter=',', names=True)\n",
    "test  = np.genfromtxt('test.csv',  delimiter=',', names=True)\n",
    "print(train.dtype.names)\n",
    "print(test.dtype.names)\n",
    "\n",
    "train = train.view(np.float).reshape(train.shape + (-1,))\n",
    "test  = test.view(np.float).reshape(test.shape   + (-1,))\n",
    "train = train.reshape(len(train), -1)\n",
    "test  = test.reshape( len(test),  -1)\n",
    "\n",
    "#First column is a dataset ID\n",
    "#Last column is price\n",
    "train_x = train[:, 1:-1]\n",
    "train_y = train[:, -1]\n",
    "\n",
    "#No test y!\n",
    "test_x = test[:, 1:]\n",
    "\n",
    "#Handle missing values\n",
    "train_x = np.where(np.isnan(train_x), \\\n",
    "    np.ma.array(train_x, mask=np.isnan(train_x)).mean(axis = 0), train_x)\n",
    "train_y = np.where(np.isnan(train_x).any(), \\\n",
    "    np.ma.array(train_y, mask=train_y).mean(axis = 0), train_y)   \n",
    "test_x = np.where(np.isnan(test_x), \\\n",
    "    np.ma.array(test_x, mask=np.isnan(test_x)).mean(axis = 0), test_x) \n"
   ]
  },
  {
   "cell_type": "code",
   "execution_count": null,
   "metadata": {
    "tags": []
   },
   "outputs": [],
   "source": [
    "#Algorithm\n"
   ]
  },
  {
   "cell_type": "code",
   "execution_count": null,
   "metadata": {
    "tags": []
   },
   "outputs": [],
   "source": [
    "#Print to Kaggle format\n",
    "\n",
    "print(len(test_prices))\n",
    "assert(len(test_prices) == 1459)\n",
    "\n",
    "with open(\"submission.csv\", \"w\") as f:\n",
    "    f.write(\"Id,SalePrice\\n\")\n",
    "    for i, price in enumerate(test_prices):\n",
    "        f.write(str(1461 + i) + \",\" + str(price))\n",
    "        if i != len(test_prices) - 1:\n",
    "            f.write(\"\\n\")"
   ]
  },
  {
   "cell_type": "code",
   "execution_count": null,
   "metadata": {
    "tags": []
   },
   "outputs": [],
   "source": [
    "!head sample_submission.csv \n",
    "!head submission.csv\n",
    "\n",
    "!tail sample_submission.csv\n",
    "!tail submission.csv"
   ]
  },
  {
   "cell_type": "code",
   "execution_count": null,
   "metadata": {},
   "outputs": [],
   "source": []
  }
 ],
 "metadata": {
  "language_info": {
   "codemirror_mode": {
    "name": "ipython",
    "version": 3
   },
   "file_extension": ".py",
   "mimetype": "text/x-python",
   "name": "python",
   "nbconvert_exporter": "python",
   "pygments_lexer": "ipython3",
   "version": "3"
  },
  "orig_nbformat": 2,
  "kernelspec": {
   "name": "python3",
   "display_name": "Python 3"
  }
 },
 "nbformat": 4,
 "nbformat_minor": 2
}
